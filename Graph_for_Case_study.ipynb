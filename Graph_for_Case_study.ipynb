{
  "nbformat": 4,
  "nbformat_minor": 0,
  "metadata": {
    "colab": {
      "provenance": []
    },
    "kernelspec": {
      "name": "python3",
      "display_name": "Python 3"
    },
    "language_info": {
      "name": "python"
    }
  },
  "cells": [
    {
      "cell_type": "code",
      "execution_count": null,
      "metadata": {
        "id": "qkZCKmGV_NZP"
      },
      "outputs": [],
      "source": [
        "import pandas as pd\n",
        "import matplotlib.pyplot as plt\n",
        "from google.colab import files\n",
        "A='What college are you a part of?'\n",
        "B='What residential area do you live in?'\n",
        "C='On a scale of 1 to 10, how educated would you say you are on the topic of water scarcity. '\n",
        "D='On average, how many showers do you take daily?'\n",
        "E='How often do you run a load of laundry per week?'\n",
        "F='On a scale of 1 to 10 how often would you say you leave water running unnecessarily per week ( ex: brushing your teeth, washing dishes, or just forgetting to turn it off)'\n",
        "G='Have you had a direct experience with water scarcity in the past/present?'\n",
        "df = pd.read_excel('ICONS.xlsx')\n",
        "laundry='Every other week or less'\n",
        "shower='Every other day or less'\n",
        "df = pd.read_excel('ICONS.xlsx')\n",
        "\n",
        "df[D] = df[D].replace(shower, '0.5')\n",
        "df[E] = df[E].replace(laundry, '0.5')\n",
        "df[D]=df[D].replace(\"4+\",'4')\n",
        "\n",
        "df[C]=df[C].astype(int)\n",
        "df[D] = df[D].astype(float)\n",
        "df[E] = df[E].astype(float)\n",
        "df[F]= df[F].astype(int)\n",
        "\n",
        "\n",
        "\n",
        "\n"
      ]
    },
    {
      "cell_type": "code",
      "source": [
        "\n",
        "grouped_df = df.groupby(C)\n",
        "\n",
        "sums_dict = {}\n",
        "for group_name, group_data in grouped_df:\n",
        "    sum_cd = 17*7*group_data[D] + 20*group_data[E]+group_data[F]\n",
        "    sums_dict[group_name] = sum_cd.sum()\n",
        "\n",
        "avg_dict = {}\n",
        "for group_name, group_data in grouped_df:\n",
        "    avg_dict[group_name] = sums_dict[group_name] / len(group_data)\n",
        "\n",
        "print(avg_dict)\n",
        "\n",
        "x=avg_dict.keys()\n",
        "y=avg_dict.values()\n",
        "\n",
        "\n",
        "plt.scatter(x,y)\n",
        "plt.axhline(y=140, linestyle='dotted', color='red')\n",
        "plt.xlabel(\"Knowledge of water scarcity\")\n",
        "plt.ylabel(\"Gallons consumed weekly\")\n",
        "plt.savefig(\"Every_area.jpg\")\n",
        "files.download(\"Every_area.jpg\")\n",
        "plt.show()"
      ],
      "metadata": {
        "colab": {
          "base_uri": "https://localhost:8080/",
          "height": 296
        },
        "id": "4nKvjNvtiIdO",
        "outputId": "ccb869e4-5130-4b1d-9324-4b67c257c95e"
      },
      "execution_count": null,
      "outputs": [
        {
          "output_type": "stream",
          "name": "stdout",
          "text": [
            "{1: 144.4, 2: 143.65, 3: 116.42307692307692, 4: 145.88888888888889, 5: 161.64, 6: 167.21875, 7: 126.29545454545455, 8: 133.25, 9: 126.9, 10: 114.16666666666667}\n"
          ]
        },
        {
          "output_type": "display_data",
          "data": {
            "text/plain": [
              "<IPython.core.display.Javascript object>"
            ],
            "application/javascript": [
              "\n",
              "    async function download(id, filename, size) {\n",
              "      if (!google.colab.kernel.accessAllowed) {\n",
              "        return;\n",
              "      }\n",
              "      const div = document.createElement('div');\n",
              "      const label = document.createElement('label');\n",
              "      label.textContent = `Downloading \"${filename}\": `;\n",
              "      div.appendChild(label);\n",
              "      const progress = document.createElement('progress');\n",
              "      progress.max = size;\n",
              "      div.appendChild(progress);\n",
              "      document.body.appendChild(div);\n",
              "\n",
              "      const buffers = [];\n",
              "      let downloaded = 0;\n",
              "\n",
              "      const channel = await google.colab.kernel.comms.open(id);\n",
              "      // Send a message to notify the kernel that we're ready.\n",
              "      channel.send({})\n",
              "\n",
              "      for await (const message of channel.messages) {\n",
              "        // Send a message to notify the kernel that we're ready.\n",
              "        channel.send({})\n",
              "        if (message.buffers) {\n",
              "          for (const buffer of message.buffers) {\n",
              "            buffers.push(buffer);\n",
              "            downloaded += buffer.byteLength;\n",
              "            progress.value = downloaded;\n",
              "          }\n",
              "        }\n",
              "      }\n",
              "      const blob = new Blob(buffers, {type: 'application/binary'});\n",
              "      const a = document.createElement('a');\n",
              "      a.href = window.URL.createObjectURL(blob);\n",
              "      a.download = filename;\n",
              "      div.appendChild(a);\n",
              "      a.click();\n",
              "      div.remove();\n",
              "    }\n",
              "  "
            ]
          },
          "metadata": {}
        },
        {
          "output_type": "display_data",
          "data": {
            "text/plain": [
              "<IPython.core.display.Javascript object>"
            ],
            "application/javascript": [
              "download(\"download_216f50e3-e311-427a-9502-faecd6260a45\", \"Every_area.jpg\", 10214)"
            ]
          },
          "metadata": {}
        },
        {
          "output_type": "display_data",
          "data": {
            "text/plain": [
              "<Figure size 432x288 with 1 Axes>"
            ],
            "image/png": "[encoded data removed]"
          },
          "metadata": {
            "needs_background": "light"
          }
        }
      ]
    },
    {
      "cell_type": "code",
      "source": [
        "grouped_df = df.groupby(G)\n",
        "\n",
        "sums_dict = {}\n",
        "for group_name, group_data in grouped_df:\n",
        "    sum_cd = 17*7*group_data[D] + 20*group_data[E]+group_data[F]\n",
        "    sums_dict[group_name] = sum_cd.sum()\n",
        "\n",
        "avg_dict = {}\n",
        "for group_name, group_data in grouped_df:\n",
        "    avg_dict[group_name] = sums_dict[group_name] / len(group_data)\n",
        "\n",
        "print(avg_dict)\n",
        "\n",
        "x=avg_dict.keys()\n",
        "y=avg_dict.values()\n",
        "\n",
        "\n",
        "plt.bar(x,y)\n",
        "plt.axhline(y=140, linestyle='dotted', color='red')\n",
        "plt.xlabel(\"Have you experienced water scarcity?\")\n",
        "plt.ylabel(\"Gallons consumed weekly\")\n",
        "plt.savefig(\"yes_or_no.jpg\")\n",
        "files.download(\"yes_or_no.jpg\")\n",
        "plt.show()"
      ],
      "metadata": {
        "colab": {
          "base_uri": "https://localhost:8080/",
          "height": 296
        },
        "id": "vUBWk6lroGgU",
        "outputId": "f6a42740-a614-41b0-8b97-b3b44071a2d6"
      },
      "execution_count": null,
      "outputs": [
        {
          "output_type": "stream",
          "name": "stdout",
          "text": [
            "{'No': 144.86206896551724, 'Yes': 134.84285714285716}\n"
          ]
        },
        {
          "output_type": "display_data",
          "data": {
            "text/plain": [
              "<IPython.core.display.Javascript object>"
            ],
            "application/javascript": [
              "\n",
              "    async function download(id, filename, size) {\n",
              "      if (!google.colab.kernel.accessAllowed) {\n",
              "        return;\n",
              "      }\n",
              "      const div = document.createElement('div');\n",
              "      const label = document.createElement('label');\n",
              "      label.textContent = `Downloading \"${filename}\": `;\n",
              "      div.appendChild(label);\n",
              "      const progress = document.createElement('progress');\n",
              "      progress.max = size;\n",
              "      div.appendChild(progress);\n",
              "      document.body.appendChild(div);\n",
              "\n",
              "      const buffers = [];\n",
              "      let downloaded = 0;\n",
              "\n",
              "      const channel = await google.colab.kernel.comms.open(id);\n",
              "      // Send a message to notify the kernel that we're ready.\n",
              "      channel.send({})\n",
              "\n",
              "      for await (const message of channel.messages) {\n",
              "        // Send a message to notify the kernel that we're ready.\n",
              "        channel.send({})\n",
              "        if (message.buffers) {\n",
              "          for (const buffer of message.buffers) {\n",
              "            buffers.push(buffer);\n",
              "            downloaded += buffer.byteLength;\n",
              "            progress.value = downloaded;\n",
              "          }\n",
              "        }\n",
              "      }\n",
              "      const blob = new Blob(buffers, {type: 'application/binary'});\n",
              "      const a = document.createElement('a');\n",
              "      a.href = window.URL.createObjectURL(blob);\n",
              "      a.download = filename;\n",
              "      div.appendChild(a);\n",
              "      a.click();\n",
              "      div.remove();\n",
              "    }\n",
              "  "
            ]
          },
          "metadata": {}
        },
        {
          "output_type": "display_data",
          "data": {
            "text/plain": [
              "<IPython.core.display.Javascript object>"
            ],
            "application/javascript": [
              "download(\"download_07878b46-915e-4d05-be83-7809e9a7f907\", \"yes_or_no.jpg\", 12594)"
            ]
          },
          "metadata": {}
        },
        {
          "output_type": "display_data",
          "data": {
            "text/plain": [
              "<Figure size 432x288 with 1 Axes>"
            ],
            "image/png": "[encoded data removed]"
          },
          "metadata": {
            "needs_background": "light"
          }
        }
      ]
    },
    {
      "cell_type": "code",
      "source": [],
      "metadata": {
        "id": "Hgf16pn3pFqL"
      },
      "execution_count": null,
      "outputs": []
    }
  ]
}